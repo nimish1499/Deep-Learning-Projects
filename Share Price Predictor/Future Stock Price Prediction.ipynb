{
 "cells": [
  {
   "cell_type": "code",
   "execution_count": 40,
   "metadata": {},
   "outputs": [],
   "source": [
    "import pandas_datareader as pdr\n",
    "import matplotlib.pyplot as plt\n",
    "import pandas as pd\n",
    "import numpy as np"
   ]
  },
  {
   "cell_type": "code",
   "execution_count": 41,
   "metadata": {},
   "outputs": [],
   "source": [
    "df = pdr.DataReader('AAPL', data_source='yahoo', start='2012-01-01', end = '2020-01-1')"
   ]
  },
  {
   "cell_type": "code",
   "execution_count": 42,
   "metadata": {},
   "outputs": [],
   "source": [
    "df.to_csv('AAPL.csv')"
   ]
  },
  {
   "cell_type": "code",
   "execution_count": 43,
   "metadata": {},
   "outputs": [
    {
     "data": {
      "text/html": [
       "<div>\n",
       "<style scoped>\n",
       "    .dataframe tbody tr th:only-of-type {\n",
       "        vertical-align: middle;\n",
       "    }\n",
       "\n",
       "    .dataframe tbody tr th {\n",
       "        vertical-align: top;\n",
       "    }\n",
       "\n",
       "    .dataframe thead th {\n",
       "        text-align: right;\n",
       "    }\n",
       "</style>\n",
       "<table border=\"1\" class=\"dataframe\">\n",
       "  <thead>\n",
       "    <tr style=\"text-align: right;\">\n",
       "      <th></th>\n",
       "      <th>High</th>\n",
       "      <th>Low</th>\n",
       "      <th>Open</th>\n",
       "      <th>Close</th>\n",
       "      <th>Volume</th>\n",
       "      <th>Adj Close</th>\n",
       "    </tr>\n",
       "    <tr>\n",
       "      <th>Date</th>\n",
       "      <th></th>\n",
       "      <th></th>\n",
       "      <th></th>\n",
       "      <th></th>\n",
       "      <th></th>\n",
       "      <th></th>\n",
       "    </tr>\n",
       "  </thead>\n",
       "  <tbody>\n",
       "    <tr>\n",
       "      <th>2012-01-03</th>\n",
       "      <td>14.732142</td>\n",
       "      <td>14.607142</td>\n",
       "      <td>14.621428</td>\n",
       "      <td>14.686786</td>\n",
       "      <td>302220800.0</td>\n",
       "      <td>12.669562</td>\n",
       "    </tr>\n",
       "    <tr>\n",
       "      <th>2012-01-04</th>\n",
       "      <td>14.810000</td>\n",
       "      <td>14.617143</td>\n",
       "      <td>14.642858</td>\n",
       "      <td>14.765715</td>\n",
       "      <td>260022000.0</td>\n",
       "      <td>12.737655</td>\n",
       "    </tr>\n",
       "    <tr>\n",
       "      <th>2012-01-05</th>\n",
       "      <td>14.948215</td>\n",
       "      <td>14.738214</td>\n",
       "      <td>14.819643</td>\n",
       "      <td>14.929643</td>\n",
       "      <td>271269600.0</td>\n",
       "      <td>12.879071</td>\n",
       "    </tr>\n",
       "    <tr>\n",
       "      <th>2012-01-06</th>\n",
       "      <td>15.098214</td>\n",
       "      <td>14.972143</td>\n",
       "      <td>14.991786</td>\n",
       "      <td>15.085714</td>\n",
       "      <td>318292800.0</td>\n",
       "      <td>13.013705</td>\n",
       "    </tr>\n",
       "    <tr>\n",
       "      <th>2012-01-09</th>\n",
       "      <td>15.276786</td>\n",
       "      <td>15.048214</td>\n",
       "      <td>15.196428</td>\n",
       "      <td>15.061786</td>\n",
       "      <td>394024400.0</td>\n",
       "      <td>12.993064</td>\n",
       "    </tr>\n",
       "  </tbody>\n",
       "</table>\n",
       "</div>"
      ],
      "text/plain": [
       "                 High        Low       Open      Close       Volume  Adj Close\n",
       "Date                                                                          \n",
       "2012-01-03  14.732142  14.607142  14.621428  14.686786  302220800.0  12.669562\n",
       "2012-01-04  14.810000  14.617143  14.642858  14.765715  260022000.0  12.737655\n",
       "2012-01-05  14.948215  14.738214  14.819643  14.929643  271269600.0  12.879071\n",
       "2012-01-06  15.098214  14.972143  14.991786  15.085714  318292800.0  13.013705\n",
       "2012-01-09  15.276786  15.048214  15.196428  15.061786  394024400.0  12.993064"
      ]
     },
     "execution_count": 43,
     "metadata": {},
     "output_type": "execute_result"
    }
   ],
   "source": [
    "df.head()"
   ]
  },
  {
   "cell_type": "code",
   "execution_count": 44,
   "metadata": {},
   "outputs": [
    {
     "data": {
      "text/plain": [
       "(2012, 6)"
      ]
     },
     "execution_count": 44,
     "metadata": {},
     "output_type": "execute_result"
    }
   ],
   "source": [
    "df.shape"
   ]
  },
  {
   "cell_type": "code",
   "execution_count": 45,
   "metadata": {},
   "outputs": [],
   "source": [
    "df1 = df['Close']"
   ]
  },
  {
   "cell_type": "code",
   "execution_count": 46,
   "metadata": {},
   "outputs": [
    {
     "data": {
      "text/plain": [
       "(2012,)"
      ]
     },
     "execution_count": 46,
     "metadata": {},
     "output_type": "execute_result"
    }
   ],
   "source": [
    "df1.shape"
   ]
  },
  {
   "cell_type": "code",
   "execution_count": 47,
   "metadata": {},
   "outputs": [
    {
     "data": {
      "text/plain": [
       "[<matplotlib.lines.Line2D at 0x1136319fdc8>]"
      ]
     },
     "execution_count": 47,
     "metadata": {},
     "output_type": "execute_result"
    },
    {
     "data": {
      "image/png": "[encoded data removed]",
      "text/plain": [
       "<Figure size 432x288 with 1 Axes>"
      ]
     },
     "metadata": {
      "needs_background": "light"
     },
     "output_type": "display_data"
    }
   ],
   "source": [
    "plt.plot(df1)"
   ]
  },
  {
   "cell_type": "markdown",
   "metadata": {},
   "source": [
    "LSTM are sensitive to *scale* of the data so we use Min Max Scaler"
   ]
  },
  {
   "cell_type": "markdown",
   "metadata": {},
   "source": [
    "### Data Preprocessing"
   ]
  },
  {
   "cell_type": "code",
   "execution_count": 48,
   "metadata": {},
   "outputs": [],
   "source": [
    "from sklearn.preprocessing import MinMaxScaler\n",
    "scaler = MinMaxScaler(feature_range = (0,1))\n",
    "df1 = scaler.fit_transform(np.array(df1).reshape(-1,1))"
   ]
  },
  {
   "cell_type": "code",
   "execution_count": 49,
   "metadata": {},
   "outputs": [
    {
     "data": {
      "text/plain": [
       "(2012, 1)"
      ]
     },
     "execution_count": 49,
     "metadata": {},
     "output_type": "execute_result"
    }
   ],
   "source": [
    "df1.shape"
   ]
  },
  {
   "cell_type": "code",
   "execution_count": 50,
   "metadata": {},
   "outputs": [],
   "source": [
    "train_data_size = int(len(df1)*0.65)\n",
    "test_size = len(df1)-train_data_size"
   ]
  },
  {
   "cell_type": "code",
   "execution_count": 51,
   "metadata": {},
   "outputs": [
    {
     "data": {
      "text/plain": [
       "(1307, 705)"
      ]
     },
     "execution_count": 51,
     "metadata": {},
     "output_type": "execute_result"
    }
   ],
   "source": [
    "train_data_size, test_size"
   ]
  },
  {
   "cell_type": "code",
   "execution_count": 52,
   "metadata": {},
   "outputs": [],
   "source": [
    "train_data, test_data = df1[0:train_data_size, :], df1[train_data_size:len(df1),:1]"
   ]
  },
  {
   "cell_type": "code",
   "execution_count": 53,
   "metadata": {},
   "outputs": [],
   "source": [
    "## Creation of dataset as matrix for learning and testing\n",
    "\n",
    "def create_dataset(dataset, time_step=1):\n",
    "    data_X = []\n",
    "    data_Y = []\n",
    "    for i in range(len(dataset)-time_step-1):\n",
    "        a = dataset[i: (i+time_step), 0]\n",
    "        data_X.append(a)\n",
    "        data_Y.append(dataset[i+time_step,0])\n",
    "    return np.array(data_X), np.array(data_Y)"
   ]
  },
  {
   "cell_type": "code",
   "execution_count": 54,
   "metadata": {},
   "outputs": [],
   "source": [
    "## Rehape X and Y for train and test\n",
    "time_step = 100\n",
    "X_train, y_train = create_dataset(train_data, time_step)\n",
    "X_test, y_test = create_dataset(test_data, time_step)"
   ]
  },
  {
   "cell_type": "code",
   "execution_count": 55,
   "metadata": {},
   "outputs": [
    {
     "data": {
      "text/plain": [
       "array([[0.01243228, 0.0137596 , 0.01651631, ..., 0.09996278, 0.10812481,\n",
       "        0.10497773],\n",
       "       [0.0137596 , 0.01651631, 0.01914091, ..., 0.10812481, 0.10497773,\n",
       "        0.10315791],\n",
       "       [0.01651631, 0.01914091, 0.01873851, ..., 0.10497773, 0.10315791,\n",
       "        0.10915183],\n",
       "       ...,\n",
       "       [0.25725218, 0.25998486, 0.25964855, ..., 0.35125703, 0.35201381,\n",
       "        0.34982764],\n",
       "       [0.25998486, 0.25964855, 0.25931221, ..., 0.35201381, 0.34982764,\n",
       "        0.34848228],\n",
       "       [0.25964855, 0.25931221, 0.25784076, ..., 0.34982764, 0.34848228,\n",
       "        0.35041622]])"
      ]
     },
     "execution_count": 55,
     "metadata": {},
     "output_type": "execute_result"
    }
   ],
   "source": [
    "X_train"
   ]
  },
  {
   "cell_type": "code",
   "execution_count": 56,
   "metadata": {},
   "outputs": [
    {
     "data": {
      "text/plain": [
       "array([0.10315791, 0.10915183, 0.11329593, ..., 0.34848228, 0.35041622,\n",
       "       0.35066845])"
      ]
     },
     "execution_count": 56,
     "metadata": {},
     "output_type": "execute_result"
    }
   ],
   "source": [
    "y_train"
   ]
  },
  {
   "cell_type": "code",
   "execution_count": 57,
   "metadata": {},
   "outputs": [
    {
     "data": {
      "text/plain": [
       "(1206, 100)"
      ]
     },
     "execution_count": 57,
     "metadata": {},
     "output_type": "execute_result"
    }
   ],
   "source": [
    "X_train.shape"
   ]
  },
  {
   "cell_type": "code",
   "execution_count": 58,
   "metadata": {},
   "outputs": [
    {
     "data": {
      "text/plain": [
       "((604, 100), (604,))"
      ]
     },
     "execution_count": 58,
     "metadata": {},
     "output_type": "execute_result"
    }
   ],
   "source": [
    "X_test.shape, y_test.shape"
   ]
  },
  {
   "cell_type": "markdown",
   "metadata": {},
   "source": [
    "####  For LSTM model should be in a 3-dimensions so X_train, X_test needs to be reshaped"
   ]
  },
  {
   "cell_type": "code",
   "execution_count": 59,
   "metadata": {},
   "outputs": [],
   "source": [
    "# REshape as [sample_size, time_step, features]\n",
    "\n",
    "X_train = X_train.reshape(X_train.shape[0], X_train.shape[1],1)\n",
    "X_test = X_test.reshape(X_test.shape[0], X_test.shape[1],1)"
   ]
  },
  {
   "cell_type": "code",
   "execution_count": 60,
   "metadata": {},
   "outputs": [
    {
     "data": {
      "text/plain": [
       "((1206, 100, 1), (604, 100, 1))"
      ]
     },
     "execution_count": 60,
     "metadata": {},
     "output_type": "execute_result"
    }
   ],
   "source": [
    "X_train.shape, X_test.shape"
   ]
  },
  {
   "cell_type": "markdown",
   "metadata": {},
   "source": [
    "###  Creation of Stacked LSTM"
   ]
  },
  {
   "cell_type": "code",
   "execution_count": 61,
   "metadata": {},
   "outputs": [],
   "source": [
    "from tensorflow.keras.models import Sequential\n",
    "from tensorflow.keras.layers import Dense\n",
    "from tensorflow.keras.layers import LSTM"
   ]
  },
  {
   "cell_type": "code",
   "execution_count": 62,
   "metadata": {},
   "outputs": [],
   "source": [
    "## Input_shape = [time_steps, features]\n",
    "\n",
    "model = Sequential()\n",
    "model.add(LSTM(50, return_sequences=True, input_shape=(100,1)))\n",
    "model.add(LSTM(50, return_sequences=True))\n",
    "model.add(LSTM(50))\n",
    "model.add(Dense(1))\n",
    "model.compile(loss='mean_squared_error', optimizer='adam')"
   ]
  },
  {
   "cell_type": "code",
   "execution_count": 63,
   "metadata": {},
   "outputs": [
    {
     "name": "stdout",
     "output_type": "stream",
     "text": [
      "Model: \"sequential_1\"\n",
      "_________________________________________________________________\n",
      "Layer (type)                 Output Shape              Param #   \n",
      "=================================================================\n",
      "lstm_3 (LSTM)                (None, 100, 50)           10400     \n",
      "_________________________________________________________________\n",
      "lstm_4 (LSTM)                (None, 100, 50)           20200     \n",
      "_________________________________________________________________\n",
      "lstm_5 (LSTM)                (None, 50)                20200     \n",
      "_________________________________________________________________\n",
      "dense_1 (Dense)              (None, 1)                 51        \n",
      "=================================================================\n",
      "Total params: 50,851\n",
      "Trainable params: 50,851\n",
      "Non-trainable params: 0\n",
      "_________________________________________________________________\n"
     ]
    }
   ],
   "source": [
    "model.summary()"
   ]
  },
  {
   "cell_type": "code",
   "execution_count": 64,
   "metadata": {},
   "outputs": [
    {
     "name": "stdout",
     "output_type": "stream",
     "text": [
      "Train on 1206 samples, validate on 604 samples\n",
      "Epoch 1/100\n",
      "1206/1206 [==============================] - 9s 8ms/sample - loss: 0.0094 - val_loss: 0.0749\n",
      "Epoch 2/100\n",
      "1206/1206 [==============================] - 6s 5ms/sample - loss: 0.0017 - val_loss: 0.0056\n",
      "Epoch 3/100\n",
      "1206/1206 [==============================] - 6s 5ms/sample - loss: 4.5417e-04 - val_loss: 0.0042\n",
      "Epoch 4/100\n",
      "1206/1206 [==============================] - 6s 5ms/sample - loss: 3.0301e-04 - val_loss: 0.0013\n",
      "Epoch 5/100\n",
      "1206/1206 [==============================] - 6s 5ms/sample - loss: 2.8630e-04 - val_loss: 0.0014\n",
      "Epoch 6/100\n",
      "1206/1206 [==============================] - 5s 5ms/sample - loss: 2.7633e-04 - val_loss: 0.0014\n",
      "Epoch 7/100\n",
      "1206/1206 [==============================] - 5s 5ms/sample - loss: 2.7009e-04 - val_loss: 0.0012\n",
      "Epoch 8/100\n",
      "1206/1206 [==============================] - 6s 5ms/sample - loss: 2.6146e-04 - val_loss: 0.0011\n",
      "Epoch 9/100\n",
      "1206/1206 [==============================] - 6s 5ms/sample - loss: 2.6331e-04 - val_loss: 0.0011\n",
      "Epoch 10/100\n",
      "1206/1206 [==============================] - 6s 5ms/sample - loss: 2.5678e-04 - val_loss: 0.0011\n",
      "Epoch 11/100\n",
      "1206/1206 [==============================] - 6s 5ms/sample - loss: 2.4793e-04 - val_loss: 0.0011\n",
      "Epoch 12/100\n",
      "1206/1206 [==============================] - 6s 5ms/sample - loss: 2.3655e-04 - val_loss: 0.0011\n",
      "Epoch 13/100\n",
      "1206/1206 [==============================] - 6s 5ms/sample - loss: 2.3252e-04 - val_loss: 9.7680e-04\n",
      "Epoch 14/100\n",
      "1206/1206 [==============================] - 5s 5ms/sample - loss: 2.2249e-04 - val_loss: 9.4731e-04\n",
      "Epoch 15/100\n",
      "1206/1206 [==============================] - 6s 5ms/sample - loss: 2.2911e-04 - val_loss: 0.0013\n",
      "Epoch 16/100\n",
      "1206/1206 [==============================] - 5s 5ms/sample - loss: 2.2929e-04 - val_loss: 0.0013\n",
      "Epoch 17/100\n",
      "1206/1206 [==============================] - 5s 5ms/sample - loss: 2.0737e-04 - val_loss: 8.4798e-04\n",
      "Epoch 18/100\n",
      "1206/1206 [==============================] - 6s 5ms/sample - loss: 2.0884e-04 - val_loss: 0.0013\n",
      "Epoch 19/100\n",
      "1206/1206 [==============================] - 6s 5ms/sample - loss: 2.1738e-04 - val_loss: 0.0029\n",
      "Epoch 20/100\n",
      "1206/1206 [==============================] - 6s 5ms/sample - loss: 2.3740e-04 - val_loss: 8.2747e-04\n",
      "Epoch 21/100\n",
      "1206/1206 [==============================] - 6s 5ms/sample - loss: 2.0545e-04 - val_loss: 0.0016\n",
      "Epoch 22/100\n",
      "1206/1206 [==============================] - 6s 5ms/sample - loss: 2.3848e-04 - val_loss: 0.0029\n",
      "Epoch 23/100\n",
      "1206/1206 [==============================] - 6s 5ms/sample - loss: 2.0961e-04 - val_loss: 9.8857e-04\n",
      "Epoch 24/100\n",
      "1206/1206 [==============================] - 6s 5ms/sample - loss: 1.8504e-04 - val_loss: 9.4672e-04\n",
      "Epoch 25/100\n",
      "1206/1206 [==============================] - 6s 5ms/sample - loss: 1.7957e-04 - val_loss: 0.0016\n",
      "Epoch 26/100\n",
      "1206/1206 [==============================] - 5s 4ms/sample - loss: 1.7454e-04 - val_loss: 0.0012\n",
      "Epoch 27/100\n",
      "1206/1206 [==============================] - 5s 4ms/sample - loss: 1.7530e-04 - val_loss: 0.0011\n",
      "Epoch 28/100\n",
      "1206/1206 [==============================] - 5s 4ms/sample - loss: 1.6918e-04 - val_loss: 0.0017\n",
      "Epoch 29/100\n",
      "1206/1206 [==============================] - 6s 5ms/sample - loss: 1.6896e-04 - val_loss: 0.0011\n",
      "Epoch 30/100\n",
      "1206/1206 [==============================] - 6s 5ms/sample - loss: 1.6649e-04 - val_loss: 0.0014\n",
      "Epoch 31/100\n",
      "1206/1206 [==============================] - 5s 5ms/sample - loss: 1.6812e-04 - val_loss: 0.0013\n",
      "Epoch 32/100\n",
      "1206/1206 [==============================] - 5s 5ms/sample - loss: 1.6194e-04 - val_loss: 9.6082e-04\n",
      "Epoch 33/100\n",
      "1206/1206 [==============================] - 5s 4ms/sample - loss: 1.6777e-04 - val_loss: 0.0018\n",
      "Epoch 34/100\n",
      "1206/1206 [==============================] - 5s 5ms/sample - loss: 1.5476e-04 - val_loss: 0.0020\n",
      "Epoch 35/100\n",
      "1206/1206 [==============================] - 5s 4ms/sample - loss: 1.6077e-04 - val_loss: 0.0013\n",
      "Epoch 36/100\n",
      "1206/1206 [==============================] - 5s 4ms/sample - loss: 1.5348e-04 - val_loss: 9.7639e-04\n",
      "Epoch 37/100\n",
      "1206/1206 [==============================] - 6s 5ms/sample - loss: 1.6039e-04 - val_loss: 0.0013\n",
      "Epoch 38/100\n",
      "1206/1206 [==============================] - 6s 5ms/sample - loss: 1.7278e-04 - val_loss: 0.0031\n",
      "Epoch 39/100\n",
      "1206/1206 [==============================] - 6s 5ms/sample - loss: 1.4965e-04 - val_loss: 0.0012\n",
      "Epoch 40/100\n",
      "1206/1206 [==============================] - 5s 5ms/sample - loss: 1.4695e-04 - val_loss: 9.4729e-04\n",
      "Epoch 41/100\n",
      "1206/1206 [==============================] - 5s 4ms/sample - loss: 1.7105e-04 - val_loss: 0.0022\n",
      "Epoch 42/100\n",
      "1206/1206 [==============================] - 6s 5ms/sample - loss: 1.4619e-04 - val_loss: 8.2295e-04\n",
      "Epoch 43/100\n",
      "1206/1206 [==============================] - 6s 5ms/sample - loss: 1.4277e-04 - val_loss: 0.0020\n",
      "Epoch 44/100\n",
      "1206/1206 [==============================] - 5s 5ms/sample - loss: 1.4206e-04 - val_loss: 0.0015\n",
      "Epoch 45/100\n",
      "1206/1206 [==============================] - 6s 5ms/sample - loss: 1.4289e-04 - val_loss: 0.0016\n",
      "Epoch 46/100\n",
      "1206/1206 [==============================] - 5s 5ms/sample - loss: 1.3266e-04 - val_loss: 0.0021\n",
      "Epoch 47/100\n",
      "1206/1206 [==============================] - 5s 4ms/sample - loss: 1.3281e-04 - val_loss: 0.0026\n",
      "Epoch 48/100\n",
      "1206/1206 [==============================] - 6s 5ms/sample - loss: 1.5263e-04 - val_loss: 0.0016\n",
      "Epoch 49/100\n",
      "1206/1206 [==============================] - 6s 5ms/sample - loss: 1.3795e-04 - val_loss: 6.2842e-04\n",
      "Epoch 50/100\n",
      "1206/1206 [==============================] - 5s 4ms/sample - loss: 1.4144e-04 - val_loss: 0.0016\n",
      "Epoch 51/100\n",
      "1206/1206 [==============================] - 5s 4ms/sample - loss: 1.4110e-04 - val_loss: 0.0010\n",
      "Epoch 52/100\n",
      "1206/1206 [==============================] - 5s 4ms/sample - loss: 1.2695e-04 - val_loss: 7.2113e-04\n",
      "Epoch 53/100\n",
      "1206/1206 [==============================] - 5s 4ms/sample - loss: 1.3711e-04 - val_loss: 0.0017\n",
      "Epoch 54/100\n",
      "1206/1206 [==============================] - 5s 4ms/sample - loss: 1.2382e-04 - val_loss: 5.7936e-04\n",
      "Epoch 55/100\n",
      "1206/1206 [==============================] - 5s 4ms/sample - loss: 1.4305e-04 - val_loss: 8.8954e-04\n",
      "Epoch 56/100\n",
      "1206/1206 [==============================] - 5s 4ms/sample - loss: 1.2326e-04 - val_loss: 0.0011\n",
      "Epoch 57/100\n",
      "1206/1206 [==============================] - 5s 4ms/sample - loss: 1.1876e-04 - val_loss: 0.0016\n",
      "Epoch 58/100\n",
      "1206/1206 [==============================] - 5s 4ms/sample - loss: 1.2441e-04 - val_loss: 9.1667e-04\n",
      "Epoch 59/100\n",
      "1206/1206 [==============================] - 5s 4ms/sample - loss: 1.1267e-04 - val_loss: 0.0021\n",
      "Epoch 60/100\n",
      "1206/1206 [==============================] - 5s 4ms/sample - loss: 1.3734e-04 - val_loss: 0.0014\n",
      "Epoch 61/100\n",
      "1206/1206 [==============================] - 5s 4ms/sample - loss: 1.2199e-04 - val_loss: 7.0577e-04\n",
      "Epoch 62/100\n",
      "1206/1206 [==============================] - 5s 4ms/sample - loss: 1.1618e-04 - val_loss: 0.0011\n",
      "Epoch 63/100\n",
      "1206/1206 [==============================] - 5s 4ms/sample - loss: 1.1523e-04 - val_loss: 0.0013\n",
      "Epoch 64/100\n",
      "1206/1206 [==============================] - 6s 5ms/sample - loss: 1.1260e-04 - val_loss: 0.0012\n",
      "Epoch 65/100\n",
      "1206/1206 [==============================] - 5s 5ms/sample - loss: 1.0508e-04 - val_loss: 9.7075e-04\n",
      "Epoch 66/100\n",
      "1206/1206 [==============================] - 5s 5ms/sample - loss: 1.0776e-04 - val_loss: 7.6836e-04\n",
      "Epoch 67/100\n",
      "1206/1206 [==============================] - 5s 4ms/sample - loss: 1.0936e-04 - val_loss: 0.0011\n",
      "Epoch 68/100\n",
      "1206/1206 [==============================] - 5s 4ms/sample - loss: 1.2036e-04 - val_loss: 0.0015\n",
      "Epoch 69/100\n",
      "1206/1206 [==============================] - 5s 5ms/sample - loss: 1.1072e-04 - val_loss: 5.0973e-04\n",
      "Epoch 70/100\n",
      "1206/1206 [==============================] - 5s 4ms/sample - loss: 1.0443e-04 - val_loss: 0.0016\n",
      "Epoch 71/100\n",
      "1206/1206 [==============================] - 5s 5ms/sample - loss: 1.0458e-04 - val_loss: 6.4575e-04\n",
      "Epoch 72/100\n",
      "1206/1206 [==============================] - 5s 4ms/sample - loss: 1.0282e-04 - val_loss: 0.0014\n",
      "Epoch 73/100\n",
      "1206/1206 [==============================] - 6s 5ms/sample - loss: 9.8159e-05 - val_loss: 6.4937e-04\n",
      "Epoch 74/100\n"
     ]
    },
    {
     "name": "stdout",
     "output_type": "stream",
     "text": [
      "1206/1206 [==============================] - 6s 5ms/sample - loss: 1.0783e-04 - val_loss: 4.4114e-04\n",
      "Epoch 75/100\n",
      "1206/1206 [==============================] - 5s 4ms/sample - loss: 1.0903e-04 - val_loss: 5.6938e-04\n",
      "Epoch 76/100\n",
      "1206/1206 [==============================] - 5s 4ms/sample - loss: 9.3107e-05 - val_loss: 0.0010\n",
      "Epoch 77/100\n",
      "1206/1206 [==============================] - 5s 4ms/sample - loss: 9.4246e-05 - val_loss: 8.5660e-04\n",
      "Epoch 78/100\n",
      "1206/1206 [==============================] - 5s 5ms/sample - loss: 1.0193e-04 - val_loss: 5.2187e-04\n",
      "Epoch 79/100\n",
      "1206/1206 [==============================] - 5s 4ms/sample - loss: 9.8687e-05 - val_loss: 6.5947e-04\n",
      "Epoch 80/100\n",
      "1206/1206 [==============================] - 5s 4ms/sample - loss: 9.5303e-05 - val_loss: 8.3655e-04\n",
      "Epoch 81/100\n",
      "1206/1206 [==============================] - 6s 5ms/sample - loss: 9.3571e-05 - val_loss: 7.2315e-04\n",
      "Epoch 82/100\n",
      "1206/1206 [==============================] - 5s 4ms/sample - loss: 9.3299e-05 - val_loss: 6.7165e-04\n",
      "Epoch 83/100\n",
      "1206/1206 [==============================] - 6s 5ms/sample - loss: 1.0663e-04 - val_loss: 0.0015\n",
      "Epoch 84/100\n",
      "1206/1206 [==============================] - 5s 4ms/sample - loss: 9.8650e-05 - val_loss: 5.3083e-04\n",
      "Epoch 85/100\n",
      "1206/1206 [==============================] - 6s 5ms/sample - loss: 8.6062e-05 - val_loss: 0.0013\n",
      "Epoch 86/100\n",
      "1206/1206 [==============================] - 6s 5ms/sample - loss: 8.4094e-05 - val_loss: 5.5174e-04\n",
      "Epoch 87/100\n",
      "1206/1206 [==============================] - 6s 5ms/sample - loss: 8.5608e-05 - val_loss: 5.3665e-04\n",
      "Epoch 88/100\n",
      "1206/1206 [==============================] - 6s 5ms/sample - loss: 8.3712e-05 - val_loss: 4.5982e-04\n",
      "Epoch 89/100\n",
      "1206/1206 [==============================] - 6s 5ms/sample - loss: 8.7634e-05 - val_loss: 7.6889e-04\n",
      "Epoch 90/100\n",
      "1206/1206 [==============================] - 7s 5ms/sample - loss: 9.6085e-05 - val_loss: 4.2772e-04\n",
      "Epoch 91/100\n",
      "1206/1206 [==============================] - 6s 5ms/sample - loss: 8.8171e-05 - val_loss: 3.5559e-04\n",
      "Epoch 92/100\n",
      "1206/1206 [==============================] - 7s 6ms/sample - loss: 8.7102e-05 - val_loss: 4.5204e-04\n",
      "Epoch 93/100\n",
      "1206/1206 [==============================] - 8s 6ms/sample - loss: 7.8563e-05 - val_loss: 5.1616e-04\n",
      "Epoch 94/100\n",
      "1206/1206 [==============================] - 7s 6ms/sample - loss: 8.2954e-05 - val_loss: 8.0612e-04\n",
      "Epoch 95/100\n",
      "1206/1206 [==============================] - 7s 6ms/sample - loss: 8.8443e-05 - val_loss: 3.8135e-04\n",
      "Epoch 96/100\n",
      "1206/1206 [==============================] - 7s 6ms/sample - loss: 7.7543e-05 - val_loss: 0.0010\n",
      "Epoch 97/100\n",
      "1206/1206 [==============================] - 8s 7ms/sample - loss: 8.0805e-05 - val_loss: 9.4049e-04\n",
      "Epoch 98/100\n",
      "1206/1206 [==============================] - 7s 5ms/sample - loss: 7.8830e-05 - val_loss: 4.3072e-04\n",
      "Epoch 99/100\n",
      "1206/1206 [==============================] - 7s 6ms/sample - loss: 8.0516e-05 - val_loss: 4.9085e-04\n",
      "Epoch 100/100\n",
      "1206/1206 [==============================] - 6s 5ms/sample - loss: 7.8469e-05 - val_loss: 0.0010\n"
     ]
    },
    {
     "data": {
      "text/plain": [
       "<tensorflow.python.keras.callbacks.History at 0x1136727b788>"
      ]
     },
     "execution_count": 64,
     "metadata": {},
     "output_type": "execute_result"
    }
   ],
   "source": [
    "model.fit(X_train, y_train, validation_data=(X_test, y_test), epochs=100,batch_size=64, verbose=1)"
   ]
  },
  {
   "cell_type": "code",
   "execution_count": 65,
   "metadata": {},
   "outputs": [],
   "source": [
    "import tensorflow as tf"
   ]
  },
  {
   "cell_type": "code",
   "execution_count": 66,
   "metadata": {},
   "outputs": [
    {
     "data": {
      "text/plain": [
       "'1.14.0'"
      ]
     },
     "execution_count": 66,
     "metadata": {},
     "output_type": "execute_result"
    }
   ],
   "source": [
    "tf.__version__"
   ]
  },
  {
   "cell_type": "code",
   "execution_count": 67,
   "metadata": {},
   "outputs": [],
   "source": [
    "### Lets Do the prediction and check performance metrics\n",
    "train_predict=model.predict(X_train)\n",
    "test_predict=model.predict(X_test)"
   ]
  },
  {
   "cell_type": "code",
   "execution_count": 68,
   "metadata": {},
   "outputs": [],
   "source": [
    "##Transformback to original form\n",
    "train_predict=scaler.inverse_transform(train_predict)\n",
    "test_predict=scaler.inverse_transform(test_predict)"
   ]
  },
  {
   "cell_type": "code",
   "execution_count": 69,
   "metadata": {},
   "outputs": [
    {
     "data": {
      "text/plain": [
       "24.336201970366158"
      ]
     },
     "execution_count": 69,
     "metadata": {},
     "output_type": "execute_result"
    }
   ],
   "source": [
    "### Calculate RMSE performance metrics\n",
    "import math\n",
    "from sklearn.metrics import mean_squared_error\n",
    "math.sqrt(mean_squared_error(y_train,train_predict))"
   ]
  },
  {
   "cell_type": "code",
   "execution_count": 70,
   "metadata": {},
   "outputs": [
    {
     "data": {
      "text/plain": [
       "46.61107563149401"
      ]
     },
     "execution_count": 70,
     "metadata": {},
     "output_type": "execute_result"
    }
   ],
   "source": [
    "### Test Data RMSE\n",
    "math.sqrt(mean_squared_error(y_test,test_predict))"
   ]
  },
  {
   "cell_type": "code",
   "execution_count": 71,
   "metadata": {},
   "outputs": [
    {
     "data": {
      "image/png": "[encoded data removed]",
      "text/plain": [
       "<Figure size 432x288 with 1 Axes>"
      ]
     },
     "metadata": {
      "needs_background": "light"
     },
     "output_type": "display_data"
    }
   ],
   "source": [
    "import numpy\n",
    "### Plotting \n",
    "# shift train predictions for plotting\n",
    "look_back=100\n",
    "trainPredictPlot = numpy.empty_like(df1)\n",
    "trainPredictPlot[:, :] = np.nan\n",
    "trainPredictPlot[look_back:len(train_predict)+look_back, :] = train_predict\n",
    "# shift test predictions for plotting\n",
    "testPredictPlot = numpy.empty_like(df1)\n",
    "testPredictPlot[:, :] = numpy.nan\n",
    "testPredictPlot[len(train_predict)+(look_back*2)+1:len(df1)-1, :] = test_predict\n",
    "# plot baseline and predictions\n",
    "plt.plot(scaler.inverse_transform(df1))\n",
    "plt.plot(trainPredictPlot)\n",
    "plt.plot(testPredictPlot)\n",
    "plt.show()"
   ]
  },
  {
   "cell_type": "code",
   "execution_count": 72,
   "metadata": {},
   "outputs": [
    {
     "data": {
      "text/plain": [
       "705"
      ]
     },
     "execution_count": 72,
     "metadata": {},
     "output_type": "execute_result"
    }
   ],
   "source": [
    "len(test_data)"
   ]
  },
  {
   "cell_type": "code",
   "execution_count": 74,
   "metadata": {},
   "outputs": [
    {
     "data": {
      "text/plain": [
       "(1, 100)"
      ]
     },
     "execution_count": 74,
     "metadata": {},
     "output_type": "execute_result"
    }
   ],
   "source": [
    "## to predict a value we need t have previous 100 value\n",
    "x_input = test_data[len(test_data)-100:].reshape(1,-1)\n",
    "x_input.shape"
   ]
  },
  {
   "cell_type": "code",
   "execution_count": 75,
   "metadata": {},
   "outputs": [],
   "source": [
    "test_input = list(x_input)"
   ]
  },
  {
   "cell_type": "code",
   "execution_count": 76,
   "metadata": {},
   "outputs": [
    {
     "data": {
      "text/plain": [
       "[array([0.61044316, 0.608299  , 0.64399228, 0.61784244, 0.61359627,\n",
       "        0.63360802, 0.64979404, 0.64983606, 0.65942152, 0.6586648 ,\n",
       "        0.61737998, 0.633566  , 0.62377031, 0.62952999, 0.64416042,\n",
       "        0.64302535, 0.63024468, 0.6449172 , 0.66211218, 0.66202808,\n",
       "        0.66585387, 0.67649038, 0.70545699, 0.70335492, 0.6851089 ,\n",
       "        0.68994366, 0.69330699, 0.70200962, 0.69440011, 0.68082065,\n",
       "        0.68498278, 0.68061043, 0.69469437, 0.68990164, 0.68540323,\n",
       "        0.70705459, 0.70966115, 0.6859918 , 0.69381153, 0.71983519,\n",
       "        0.72004541, 0.70886235, 0.71991929, 0.73278399, 0.75851346,\n",
       "        0.757084  , 0.75477176, 0.75077777, 0.75460356, 0.75935428,\n",
       "        0.77659127, 0.77427903, 0.78781635, 0.78949805, 0.80211051,\n",
       "        0.81249478, 0.78827881, 0.78815269, 0.81127554, 0.84095692,\n",
       "        0.84801986, 0.84646435, 0.84692674, 0.85613385, 0.85911889,\n",
       "        0.86777944, 0.86677035, 0.87732282, 0.86962928, 0.88274622,\n",
       "        0.88837977, 0.88497441, 0.87194151, 0.86698064, 0.86601364,\n",
       "        0.88531069, 0.87656611, 0.8914908 , 0.88901036, 0.87601954,\n",
       "        0.85621802, 0.86584544, 0.88198937, 0.9035567 , 0.88762305,\n",
       "        0.89418152, 0.90380894, 0.90670982, 0.92222315, 0.94202468,\n",
       "        0.94433704, 0.9415202 , 0.94269736, 0.94025901, 0.95942994,\n",
       "        0.96056502, 0.98427651, 0.98381398, 0.99104513, 1.        ])]"
      ]
     },
     "execution_count": 76,
     "metadata": {},
     "output_type": "execute_result"
    }
   ],
   "source": [
    "test_input"
   ]
  },
  {
   "cell_type": "code",
   "execution_count": 77,
   "metadata": {},
   "outputs": [],
   "source": [
    "temp_input = test_input[0].tolist()"
   ]
  },
  {
   "cell_type": "code",
   "execution_count": 78,
   "metadata": {},
   "outputs": [
    {
     "data": {
      "text/plain": [
       "[0.6104431550591249,\n",
       " 0.6082989955506957,\n",
       " 0.6439922846438464,\n",
       " 0.617842442702158,\n",
       " 0.613596270430065,\n",
       " 0.6336080195568594,\n",
       " 0.6497940374544713,\n",
       " 0.6498360558986438,\n",
       " 0.6594215214942785,\n",
       " 0.6586648045973951,\n",
       " 0.6173799832150748,\n",
       " 0.6335660011126869,\n",
       " 0.6237703149955969,\n",
       " 0.6295299852117529,\n",
       " 0.6441604225708326,\n",
       " 0.6430253472255076,\n",
       " 0.6302446836644637,\n",
       " 0.6449172036180124,\n",
       " 0.6621121773781355,\n",
       " 0.6620280763394941,\n",
       " 0.6658538717189728,\n",
       " 0.6764903757715877,\n",
       " 0.705456993079947,\n",
       " 0.7033549161659869,\n",
       " 0.6851089039488838,\n",
       " 0.6899436551908735,\n",
       " 0.6933069910832692,\n",
       " 0.7020096202992065,\n",
       " 0.6944001121347181,\n",
       " 0.6808206490823219,\n",
       " 0.6849827844660699,\n",
       " 0.6806104285608667,\n",
       " 0.6946943695445185,\n",
       " 0.689901636746701,\n",
       " 0.6854032255089804,\n",
       " 0.7070545920626516,\n",
       " 0.7096611469078675,\n",
       " 0.6859918044788773,\n",
       " 0.6938115331648211,\n",
       " 0.7198351914733991,\n",
       " 0.7200454119948545,\n",
       " 0.7088623474165152,\n",
       " 0.7199192925120406,\n",
       " 0.7327839929614295,\n",
       " 0.7585134580105035,\n",
       " 0.7570839969547853,\n",
       " 0.7547717636696663,\n",
       " 0.7507777662129049,\n",
       " 0.7546035615923834,\n",
       " 0.7593542759460283,\n",
       " 0.776591268150324,\n",
       " 0.7742790348652049,\n",
       " 0.7878163511728358,\n",
       " 0.7894980511941818,\n",
       " 0.8021105126779429,\n",
       " 0.8124947777649298,\n",
       " 0.788278810659919,\n",
       " 0.7881526911771051,\n",
       " 0.811275537230667,\n",
       " 0.8409569171420337,\n",
       " 0.8480198647807977,\n",
       " 0.846464348392562,\n",
       " 0.8469267437293486,\n",
       " 0.8561338508765417,\n",
       " 0.859118892470792,\n",
       " 0.8677794390922604,\n",
       " 0.8667703549291563,\n",
       " 0.8773228220934262,\n",
       " 0.8696292770405929,\n",
       " 0.8827462164556095,\n",
       " 0.8883797671889517,\n",
       " 0.8849744128523835,\n",
       " 0.871941510325712,\n",
       " 0.8669806396009081,\n",
       " 0.8660136380322729,\n",
       " 0.8853106887063564,\n",
       " 0.8765661051965428,\n",
       " 0.8914907999654229,\n",
       " 0.8890103646030212,\n",
       " 0.8760195446708183,\n",
       " 0.8562180160654795,\n",
       " 0.8658454359549903,\n",
       " 0.8819893712581333,\n",
       " 0.9035567009234595,\n",
       " 0.8876230502920683,\n",
       " 0.8941815199995766,\n",
       " 0.9038089398890874,\n",
       " 0.9067098162943998,\n",
       " 0.9222231541834733,\n",
       " 0.9420246827888121,\n",
       " 0.9443370443745243,\n",
       " 0.9415202048575566,\n",
       " 0.9426973627973507,\n",
       " 0.9402590100294177,\n",
       " 0.959429941220687,\n",
       " 0.9605650165660122,\n",
       " 0.9842765057397675,\n",
       " 0.9838139821023879,\n",
       " 0.9910451318184348,\n",
       " 1.0]"
      ]
     },
     "execution_count": 78,
     "metadata": {},
     "output_type": "execute_result"
    }
   ],
   "source": [
    "temp_input"
   ]
  },
  {
   "cell_type": "markdown",
   "metadata": {},
   "source": [
    "###  Predicting values for next 30 days"
   ]
  },
  {
   "cell_type": "code",
   "execution_count": 79,
   "metadata": {},
   "outputs": [
    {
     "name": "stdout",
     "output_type": "stream",
     "text": [
      "[0.9328276]\n",
      "101\n",
      "1 day input [0.608299   0.64399228 0.61784244 0.61359627 0.63360802 0.64979404\n",
      " 0.64983606 0.65942152 0.6586648  0.61737998 0.633566   0.62377031\n",
      " 0.62952999 0.64416042 0.64302535 0.63024468 0.6449172  0.66211218\n",
      " 0.66202808 0.66585387 0.67649038 0.70545699 0.70335492 0.6851089\n",
      " 0.68994366 0.69330699 0.70200962 0.69440011 0.68082065 0.68498278\n",
      " 0.68061043 0.69469437 0.68990164 0.68540323 0.70705459 0.70966115\n",
      " 0.6859918  0.69381153 0.71983519 0.72004541 0.70886235 0.71991929\n",
      " 0.73278399 0.75851346 0.757084   0.75477176 0.75077777 0.75460356\n",
      " 0.75935428 0.77659127 0.77427903 0.78781635 0.78949805 0.80211051\n",
      " 0.81249478 0.78827881 0.78815269 0.81127554 0.84095692 0.84801986\n",
      " 0.84646435 0.84692674 0.85613385 0.85911889 0.86777944 0.86677035\n",
      " 0.87732282 0.86962928 0.88274622 0.88837977 0.88497441 0.87194151\n",
      " 0.86698064 0.86601364 0.88531069 0.87656611 0.8914908  0.88901036\n",
      " 0.87601954 0.85621802 0.86584544 0.88198937 0.9035567  0.88762305\n",
      " 0.89418152 0.90380894 0.90670982 0.92222315 0.94202468 0.94433704\n",
      " 0.9415202  0.94269736 0.94025901 0.95942994 0.96056502 0.98427651\n",
      " 0.98381398 0.99104513 1.         0.93282759]\n",
      "1 day output [[0.8865868]]\n",
      "2 day input [0.64399228 0.61784244 0.61359627 0.63360802 0.64979404 0.64983606\n",
      " 0.65942152 0.6586648  0.61737998 0.633566   0.62377031 0.62952999\n",
      " 0.64416042 0.64302535 0.63024468 0.6449172  0.66211218 0.66202808\n",
      " 0.66585387 0.67649038 0.70545699 0.70335492 0.6851089  0.68994366\n",
      " 0.69330699 0.70200962 0.69440011 0.68082065 0.68498278 0.68061043\n",
      " 0.69469437 0.68990164 0.68540323 0.70705459 0.70966115 0.6859918\n",
      " 0.69381153 0.71983519 0.72004541 0.70886235 0.71991929 0.73278399\n",
      " 0.75851346 0.757084   0.75477176 0.75077777 0.75460356 0.75935428\n",
      " 0.77659127 0.77427903 0.78781635 0.78949805 0.80211051 0.81249478\n",
      " 0.78827881 0.78815269 0.81127554 0.84095692 0.84801986 0.84646435\n",
      " 0.84692674 0.85613385 0.85911889 0.86777944 0.86677035 0.87732282\n",
      " 0.86962928 0.88274622 0.88837977 0.88497441 0.87194151 0.86698064\n",
      " 0.86601364 0.88531069 0.87656611 0.8914908  0.88901036 0.87601954\n",
      " 0.85621802 0.86584544 0.88198937 0.9035567  0.88762305 0.89418152\n",
      " 0.90380894 0.90670982 0.92222315 0.94202468 0.94433704 0.9415202\n",
      " 0.94269736 0.94025901 0.95942994 0.96056502 0.98427651 0.98381398\n",
      " 0.99104513 1.         0.93282759 0.88658679]\n",
      "2 day output [[0.81225866]]\n",
      "3 day input [0.61784244 0.61359627 0.63360802 0.64979404 0.64983606 0.65942152\n",
      " 0.6586648  0.61737998 0.633566   0.62377031 0.62952999 0.64416042\n",
      " 0.64302535 0.63024468 0.6449172  0.66211218 0.66202808 0.66585387\n",
      " 0.67649038 0.70545699 0.70335492 0.6851089  0.68994366 0.69330699\n",
      " 0.70200962 0.69440011 0.68082065 0.68498278 0.68061043 0.69469437\n",
      " 0.68990164 0.68540323 0.70705459 0.70966115 0.6859918  0.69381153\n",
      " 0.71983519 0.72004541 0.70886235 0.71991929 0.73278399 0.75851346\n",
      " 0.757084   0.75477176 0.75077777 0.75460356 0.75935428 0.77659127\n",
      " 0.77427903 0.78781635 0.78949805 0.80211051 0.81249478 0.78827881\n",
      " 0.78815269 0.81127554 0.84095692 0.84801986 0.84646435 0.84692674\n",
      " 0.85613385 0.85911889 0.86777944 0.86677035 0.87732282 0.86962928\n",
      " 0.88274622 0.88837977 0.88497441 0.87194151 0.86698064 0.86601364\n",
      " 0.88531069 0.87656611 0.8914908  0.88901036 0.87601954 0.85621802\n",
      " 0.86584544 0.88198937 0.9035567  0.88762305 0.89418152 0.90380894\n",
      " 0.90670982 0.92222315 0.94202468 0.94433704 0.9415202  0.94269736\n",
      " 0.94025901 0.95942994 0.96056502 0.98427651 0.98381398 0.99104513\n",
      " 1.         0.93282759 0.88658679 0.81225866]\n",
      "3 day output [[0.71986794]]\n",
      "4 day input [0.61359627 0.63360802 0.64979404 0.64983606 0.65942152 0.6586648\n",
      " 0.61737998 0.633566   0.62377031 0.62952999 0.64416042 0.64302535\n",
      " 0.63024468 0.6449172  0.66211218 0.66202808 0.66585387 0.67649038\n",
      " 0.70545699 0.70335492 0.6851089  0.68994366 0.69330699 0.70200962\n",
      " 0.69440011 0.68082065 0.68498278 0.68061043 0.69469437 0.68990164\n",
      " 0.68540323 0.70705459 0.70966115 0.6859918  0.69381153 0.71983519\n",
      " 0.72004541 0.70886235 0.71991929 0.73278399 0.75851346 0.757084\n",
      " 0.75477176 0.75077777 0.75460356 0.75935428 0.77659127 0.77427903\n",
      " 0.78781635 0.78949805 0.80211051 0.81249478 0.78827881 0.78815269\n",
      " 0.81127554 0.84095692 0.84801986 0.84646435 0.84692674 0.85613385\n",
      " 0.85911889 0.86777944 0.86677035 0.87732282 0.86962928 0.88274622\n",
      " 0.88837977 0.88497441 0.87194151 0.86698064 0.86601364 0.88531069\n",
      " 0.87656611 0.8914908  0.88901036 0.87601954 0.85621802 0.86584544\n",
      " 0.88198937 0.9035567  0.88762305 0.89418152 0.90380894 0.90670982\n",
      " 0.92222315 0.94202468 0.94433704 0.9415202  0.94269736 0.94025901\n",
      " 0.95942994 0.96056502 0.98427651 0.98381398 0.99104513 1.\n",
      " 0.93282759 0.88658679 0.81225866 0.71986794]\n",
      "4 day output [[0.6153645]]\n",
      "5 day input [0.63360802 0.64979404 0.64983606 0.65942152 0.6586648  0.61737998\n",
      " 0.633566   0.62377031 0.62952999 0.64416042 0.64302535 0.63024468\n",
      " 0.6449172  0.66211218 0.66202808 0.66585387 0.67649038 0.70545699\n",
      " 0.70335492 0.6851089  0.68994366 0.69330699 0.70200962 0.69440011\n",
      " 0.68082065 0.68498278 0.68061043 0.69469437 0.68990164 0.68540323\n",
      " 0.70705459 0.70966115 0.6859918  0.69381153 0.71983519 0.72004541\n",
      " 0.70886235 0.71991929 0.73278399 0.75851346 0.757084   0.75477176\n",
      " 0.75077777 0.75460356 0.75935428 0.77659127 0.77427903 0.78781635\n",
      " 0.78949805 0.80211051 0.81249478 0.78827881 0.78815269 0.81127554\n",
      " 0.84095692 0.84801986 0.84646435 0.84692674 0.85613385 0.85911889\n",
      " 0.86777944 0.86677035 0.87732282 0.86962928 0.88274622 0.88837977\n",
      " 0.88497441 0.87194151 0.86698064 0.86601364 0.88531069 0.87656611\n",
      " 0.8914908  0.88901036 0.87601954 0.85621802 0.86584544 0.88198937\n",
      " 0.9035567  0.88762305 0.89418152 0.90380894 0.90670982 0.92222315\n",
      " 0.94202468 0.94433704 0.9415202  0.94269736 0.94025901 0.95942994\n",
      " 0.96056502 0.98427651 0.98381398 0.99104513 1.         0.93282759\n",
      " 0.88658679 0.81225866 0.71986794 0.61536449]\n",
      "5 day output [[0.5064554]]\n",
      "6 day input [0.64979404 0.64983606 0.65942152 0.6586648  0.61737998 0.633566\n",
      " 0.62377031 0.62952999 0.64416042 0.64302535 0.63024468 0.6449172\n",
      " 0.66211218 0.66202808 0.66585387 0.67649038 0.70545699 0.70335492\n",
      " 0.6851089  0.68994366 0.69330699 0.70200962 0.69440011 0.68082065\n",
      " 0.68498278 0.68061043 0.69469437 0.68990164 0.68540323 0.70705459\n",
      " 0.70966115 0.6859918  0.69381153 0.71983519 0.72004541 0.70886235\n",
      " 0.71991929 0.73278399 0.75851346 0.757084   0.75477176 0.75077777\n",
      " 0.75460356 0.75935428 0.77659127 0.77427903 0.78781635 0.78949805\n",
      " 0.80211051 0.81249478 0.78827881 0.78815269 0.81127554 0.84095692\n",
      " 0.84801986 0.84646435 0.84692674 0.85613385 0.85911889 0.86777944\n",
      " 0.86677035 0.87732282 0.86962928 0.88274622 0.88837977 0.88497441\n",
      " 0.87194151 0.86698064 0.86601364 0.88531069 0.87656611 0.8914908\n",
      " 0.88901036 0.87601954 0.85621802 0.86584544 0.88198937 0.9035567\n",
      " 0.88762305 0.89418152 0.90380894 0.90670982 0.92222315 0.94202468\n",
      " 0.94433704 0.9415202  0.94269736 0.94025901 0.95942994 0.96056502\n",
      " 0.98427651 0.98381398 0.99104513 1.         0.93282759 0.88658679\n",
      " 0.81225866 0.71986794 0.61536449 0.50645542]\n",
      "6 day output [[0.4029237]]\n",
      "7 day input [0.64983606 0.65942152 0.6586648  0.61737998 0.633566   0.62377031\n",
      " 0.62952999 0.64416042 0.64302535 0.63024468 0.6449172  0.66211218\n",
      " 0.66202808 0.66585387 0.67649038 0.70545699 0.70335492 0.6851089\n",
      " 0.68994366 0.69330699 0.70200962 0.69440011 0.68082065 0.68498278\n",
      " 0.68061043 0.69469437 0.68990164 0.68540323 0.70705459 0.70966115\n",
      " 0.6859918  0.69381153 0.71983519 0.72004541 0.70886235 0.71991929\n",
      " 0.73278399 0.75851346 0.757084   0.75477176 0.75077777 0.75460356\n",
      " 0.75935428 0.77659127 0.77427903 0.78781635 0.78949805 0.80211051\n",
      " 0.81249478 0.78827881 0.78815269 0.81127554 0.84095692 0.84801986\n",
      " 0.84646435 0.84692674 0.85613385 0.85911889 0.86777944 0.86677035\n",
      " 0.87732282 0.86962928 0.88274622 0.88837977 0.88497441 0.87194151\n",
      " 0.86698064 0.86601364 0.88531069 0.87656611 0.8914908  0.88901036\n",
      " 0.87601954 0.85621802 0.86584544 0.88198937 0.9035567  0.88762305\n",
      " 0.89418152 0.90380894 0.90670982 0.92222315 0.94202468 0.94433704\n",
      " 0.9415202  0.94269736 0.94025901 0.95942994 0.96056502 0.98427651\n",
      " 0.98381398 0.99104513 1.         0.93282759 0.88658679 0.81225866\n",
      " 0.71986794 0.61536449 0.50645542 0.4029237 ]\n",
      "7 day output [[0.31260952]]\n",
      "8 day input [0.65942152 0.6586648  0.61737998 0.633566   0.62377031 0.62952999\n",
      " 0.64416042 0.64302535 0.63024468 0.6449172  0.66211218 0.66202808\n",
      " 0.66585387 0.67649038 0.70545699 0.70335492 0.6851089  0.68994366\n",
      " 0.69330699 0.70200962 0.69440011 0.68082065 0.68498278 0.68061043\n",
      " 0.69469437 0.68990164 0.68540323 0.70705459 0.70966115 0.6859918\n",
      " 0.69381153 0.71983519 0.72004541 0.70886235 0.71991929 0.73278399\n",
      " 0.75851346 0.757084   0.75477176 0.75077777 0.75460356 0.75935428\n",
      " 0.77659127 0.77427903 0.78781635 0.78949805 0.80211051 0.81249478\n",
      " 0.78827881 0.78815269 0.81127554 0.84095692 0.84801986 0.84646435\n",
      " 0.84692674 0.85613385 0.85911889 0.86777944 0.86677035 0.87732282\n",
      " 0.86962928 0.88274622 0.88837977 0.88497441 0.87194151 0.86698064\n",
      " 0.86601364 0.88531069 0.87656611 0.8914908  0.88901036 0.87601954\n",
      " 0.85621802 0.86584544 0.88198937 0.9035567  0.88762305 0.89418152\n",
      " 0.90380894 0.90670982 0.92222315 0.94202468 0.94433704 0.9415202\n",
      " 0.94269736 0.94025901 0.95942994 0.96056502 0.98427651 0.98381398\n",
      " 0.99104513 1.         0.93282759 0.88658679 0.81225866 0.71986794\n",
      " 0.61536449 0.50645542 0.4029237  0.31260952]\n",
      "8 day output [[0.24007966]]\n",
      "9 day input [0.6586648  0.61737998 0.633566   0.62377031 0.62952999 0.64416042\n",
      " 0.64302535 0.63024468 0.6449172  0.66211218 0.66202808 0.66585387\n",
      " 0.67649038 0.70545699 0.70335492 0.6851089  0.68994366 0.69330699\n",
      " 0.70200962 0.69440011 0.68082065 0.68498278 0.68061043 0.69469437\n",
      " 0.68990164 0.68540323 0.70705459 0.70966115 0.6859918  0.69381153\n",
      " 0.71983519 0.72004541 0.70886235 0.71991929 0.73278399 0.75851346\n",
      " 0.757084   0.75477176 0.75077777 0.75460356 0.75935428 0.77659127\n",
      " 0.77427903 0.78781635 0.78949805 0.80211051 0.81249478 0.78827881\n",
      " 0.78815269 0.81127554 0.84095692 0.84801986 0.84646435 0.84692674\n",
      " 0.85613385 0.85911889 0.86777944 0.86677035 0.87732282 0.86962928\n",
      " 0.88274622 0.88837977 0.88497441 0.87194151 0.86698064 0.86601364\n",
      " 0.88531069 0.87656611 0.8914908  0.88901036 0.87601954 0.85621802\n",
      " 0.86584544 0.88198937 0.9035567  0.88762305 0.89418152 0.90380894\n",
      " 0.90670982 0.92222315 0.94202468 0.94433704 0.9415202  0.94269736\n",
      " 0.94025901 0.95942994 0.96056502 0.98427651 0.98381398 0.99104513\n",
      " 1.         0.93282759 0.88658679 0.81225866 0.71986794 0.61536449\n",
      " 0.50645542 0.4029237  0.31260952 0.24007966]\n",
      "9 day output [[0.18627962]]\n",
      "10 day input [0.61737998 0.633566   0.62377031 0.62952999 0.64416042 0.64302535\n",
      " 0.63024468 0.6449172  0.66211218 0.66202808 0.66585387 0.67649038\n",
      " 0.70545699 0.70335492 0.6851089  0.68994366 0.69330699 0.70200962\n",
      " 0.69440011 0.68082065 0.68498278 0.68061043 0.69469437 0.68990164\n",
      " 0.68540323 0.70705459 0.70966115 0.6859918  0.69381153 0.71983519\n",
      " 0.72004541 0.70886235 0.71991929 0.73278399 0.75851346 0.757084\n",
      " 0.75477176 0.75077777 0.75460356 0.75935428 0.77659127 0.77427903\n",
      " 0.78781635 0.78949805 0.80211051 0.81249478 0.78827881 0.78815269\n",
      " 0.81127554 0.84095692 0.84801986 0.84646435 0.84692674 0.85613385\n",
      " 0.85911889 0.86777944 0.86677035 0.87732282 0.86962928 0.88274622\n",
      " 0.88837977 0.88497441 0.87194151 0.86698064 0.86601364 0.88531069\n",
      " 0.87656611 0.8914908  0.88901036 0.87601954 0.85621802 0.86584544\n",
      " 0.88198937 0.9035567  0.88762305 0.89418152 0.90380894 0.90670982\n",
      " 0.92222315 0.94202468 0.94433704 0.9415202  0.94269736 0.94025901\n",
      " 0.95942994 0.96056502 0.98427651 0.98381398 0.99104513 1.\n",
      " 0.93282759 0.88658679 0.81225866 0.71986794 0.61536449 0.50645542\n",
      " 0.4029237  0.31260952 0.24007966 0.18627962]\n"
     ]
    },
    {
     "name": "stdout",
     "output_type": "stream",
     "text": [
      "10 day output [[0.14940177]]\n",
      "11 day input [0.633566   0.62377031 0.62952999 0.64416042 0.64302535 0.63024468\n",
      " 0.6449172  0.66211218 0.66202808 0.66585387 0.67649038 0.70545699\n",
      " 0.70335492 0.6851089  0.68994366 0.69330699 0.70200962 0.69440011\n",
      " 0.68082065 0.68498278 0.68061043 0.69469437 0.68990164 0.68540323\n",
      " 0.70705459 0.70966115 0.6859918  0.69381153 0.71983519 0.72004541\n",
      " 0.70886235 0.71991929 0.73278399 0.75851346 0.757084   0.75477176\n",
      " 0.75077777 0.75460356 0.75935428 0.77659127 0.77427903 0.78781635\n",
      " 0.78949805 0.80211051 0.81249478 0.78827881 0.78815269 0.81127554\n",
      " 0.84095692 0.84801986 0.84646435 0.84692674 0.85613385 0.85911889\n",
      " 0.86777944 0.86677035 0.87732282 0.86962928 0.88274622 0.88837977\n",
      " 0.88497441 0.87194151 0.86698064 0.86601364 0.88531069 0.87656611\n",
      " 0.8914908  0.88901036 0.87601954 0.85621802 0.86584544 0.88198937\n",
      " 0.9035567  0.88762305 0.89418152 0.90380894 0.90670982 0.92222315\n",
      " 0.94202468 0.94433704 0.9415202  0.94269736 0.94025901 0.95942994\n",
      " 0.96056502 0.98427651 0.98381398 0.99104513 1.         0.93282759\n",
      " 0.88658679 0.81225866 0.71986794 0.61536449 0.50645542 0.4029237\n",
      " 0.31260952 0.24007966 0.18627962 0.14940177]\n",
      "11 day output [[0.12618802]]\n",
      "12 day input [0.62377031 0.62952999 0.64416042 0.64302535 0.63024468 0.6449172\n",
      " 0.66211218 0.66202808 0.66585387 0.67649038 0.70545699 0.70335492\n",
      " 0.6851089  0.68994366 0.69330699 0.70200962 0.69440011 0.68082065\n",
      " 0.68498278 0.68061043 0.69469437 0.68990164 0.68540323 0.70705459\n",
      " 0.70966115 0.6859918  0.69381153 0.71983519 0.72004541 0.70886235\n",
      " 0.71991929 0.73278399 0.75851346 0.757084   0.75477176 0.75077777\n",
      " 0.75460356 0.75935428 0.77659127 0.77427903 0.78781635 0.78949805\n",
      " 0.80211051 0.81249478 0.78827881 0.78815269 0.81127554 0.84095692\n",
      " 0.84801986 0.84646435 0.84692674 0.85613385 0.85911889 0.86777944\n",
      " 0.86677035 0.87732282 0.86962928 0.88274622 0.88837977 0.88497441\n",
      " 0.87194151 0.86698064 0.86601364 0.88531069 0.87656611 0.8914908\n",
      " 0.88901036 0.87601954 0.85621802 0.86584544 0.88198937 0.9035567\n",
      " 0.88762305 0.89418152 0.90380894 0.90670982 0.92222315 0.94202468\n",
      " 0.94433704 0.9415202  0.94269736 0.94025901 0.95942994 0.96056502\n",
      " 0.98427651 0.98381398 0.99104513 1.         0.93282759 0.88658679\n",
      " 0.81225866 0.71986794 0.61536449 0.50645542 0.4029237  0.31260952\n",
      " 0.24007966 0.18627962 0.14940177 0.12618802]\n",
      "12 day output [[0.11302687]]\n",
      "13 day input [0.62952999 0.64416042 0.64302535 0.63024468 0.6449172  0.66211218\n",
      " 0.66202808 0.66585387 0.67649038 0.70545699 0.70335492 0.6851089\n",
      " 0.68994366 0.69330699 0.70200962 0.69440011 0.68082065 0.68498278\n",
      " 0.68061043 0.69469437 0.68990164 0.68540323 0.70705459 0.70966115\n",
      " 0.6859918  0.69381153 0.71983519 0.72004541 0.70886235 0.71991929\n",
      " 0.73278399 0.75851346 0.757084   0.75477176 0.75077777 0.75460356\n",
      " 0.75935428 0.77659127 0.77427903 0.78781635 0.78949805 0.80211051\n",
      " 0.81249478 0.78827881 0.78815269 0.81127554 0.84095692 0.84801986\n",
      " 0.84646435 0.84692674 0.85613385 0.85911889 0.86777944 0.86677035\n",
      " 0.87732282 0.86962928 0.88274622 0.88837977 0.88497441 0.87194151\n",
      " 0.86698064 0.86601364 0.88531069 0.87656611 0.8914908  0.88901036\n",
      " 0.87601954 0.85621802 0.86584544 0.88198937 0.9035567  0.88762305\n",
      " 0.89418152 0.90380894 0.90670982 0.92222315 0.94202468 0.94433704\n",
      " 0.9415202  0.94269736 0.94025901 0.95942994 0.96056502 0.98427651\n",
      " 0.98381398 0.99104513 1.         0.93282759 0.88658679 0.81225866\n",
      " 0.71986794 0.61536449 0.50645542 0.4029237  0.31260952 0.24007966\n",
      " 0.18627962 0.14940177 0.12618802 0.11302687]\n",
      "13 day output [[0.10661899]]\n",
      "14 day input [0.64416042 0.64302535 0.63024468 0.6449172  0.66211218 0.66202808\n",
      " 0.66585387 0.67649038 0.70545699 0.70335492 0.6851089  0.68994366\n",
      " 0.69330699 0.70200962 0.69440011 0.68082065 0.68498278 0.68061043\n",
      " 0.69469437 0.68990164 0.68540323 0.70705459 0.70966115 0.6859918\n",
      " 0.69381153 0.71983519 0.72004541 0.70886235 0.71991929 0.73278399\n",
      " 0.75851346 0.757084   0.75477176 0.75077777 0.75460356 0.75935428\n",
      " 0.77659127 0.77427903 0.78781635 0.78949805 0.80211051 0.81249478\n",
      " 0.78827881 0.78815269 0.81127554 0.84095692 0.84801986 0.84646435\n",
      " 0.84692674 0.85613385 0.85911889 0.86777944 0.86677035 0.87732282\n",
      " 0.86962928 0.88274622 0.88837977 0.88497441 0.87194151 0.86698064\n",
      " 0.86601364 0.88531069 0.87656611 0.8914908  0.88901036 0.87601954\n",
      " 0.85621802 0.86584544 0.88198937 0.9035567  0.88762305 0.89418152\n",
      " 0.90380894 0.90670982 0.92222315 0.94202468 0.94433704 0.9415202\n",
      " 0.94269736 0.94025901 0.95942994 0.96056502 0.98427651 0.98381398\n",
      " 0.99104513 1.         0.93282759 0.88658679 0.81225866 0.71986794\n",
      " 0.61536449 0.50645542 0.4029237  0.31260952 0.24007966 0.18627962\n",
      " 0.14940177 0.12618802 0.11302687 0.10661899]\n",
      "14 day output [[0.10426287]]\n",
      "15 day input [0.64302535 0.63024468 0.6449172  0.66211218 0.66202808 0.66585387\n",
      " 0.67649038 0.70545699 0.70335492 0.6851089  0.68994366 0.69330699\n",
      " 0.70200962 0.69440011 0.68082065 0.68498278 0.68061043 0.69469437\n",
      " 0.68990164 0.68540323 0.70705459 0.70966115 0.6859918  0.69381153\n",
      " 0.71983519 0.72004541 0.70886235 0.71991929 0.73278399 0.75851346\n",
      " 0.757084   0.75477176 0.75077777 0.75460356 0.75935428 0.77659127\n",
      " 0.77427903 0.78781635 0.78949805 0.80211051 0.81249478 0.78827881\n",
      " 0.78815269 0.81127554 0.84095692 0.84801986 0.84646435 0.84692674\n",
      " 0.85613385 0.85911889 0.86777944 0.86677035 0.87732282 0.86962928\n",
      " 0.88274622 0.88837977 0.88497441 0.87194151 0.86698064 0.86601364\n",
      " 0.88531069 0.87656611 0.8914908  0.88901036 0.87601954 0.85621802\n",
      " 0.86584544 0.88198937 0.9035567  0.88762305 0.89418152 0.90380894\n",
      " 0.90670982 0.92222315 0.94202468 0.94433704 0.9415202  0.94269736\n",
      " 0.94025901 0.95942994 0.96056502 0.98427651 0.98381398 0.99104513\n",
      " 1.         0.93282759 0.88658679 0.81225866 0.71986794 0.61536449\n",
      " 0.50645542 0.4029237  0.31260952 0.24007966 0.18627962 0.14940177\n",
      " 0.12618802 0.11302687 0.10661899 0.10426287]\n",
      "15 day output [[0.10390704]]\n",
      "16 day input [0.63024468 0.6449172  0.66211218 0.66202808 0.66585387 0.67649038\n",
      " 0.70545699 0.70335492 0.6851089  0.68994366 0.69330699 0.70200962\n",
      " 0.69440011 0.68082065 0.68498278 0.68061043 0.69469437 0.68990164\n",
      " 0.68540323 0.70705459 0.70966115 0.6859918  0.69381153 0.71983519\n",
      " 0.72004541 0.70886235 0.71991929 0.73278399 0.75851346 0.757084\n",
      " 0.75477176 0.75077777 0.75460356 0.75935428 0.77659127 0.77427903\n",
      " 0.78781635 0.78949805 0.80211051 0.81249478 0.78827881 0.78815269\n",
      " 0.81127554 0.84095692 0.84801986 0.84646435 0.84692674 0.85613385\n",
      " 0.85911889 0.86777944 0.86677035 0.87732282 0.86962928 0.88274622\n",
      " 0.88837977 0.88497441 0.87194151 0.86698064 0.86601364 0.88531069\n",
      " 0.87656611 0.8914908  0.88901036 0.87601954 0.85621802 0.86584544\n",
      " 0.88198937 0.9035567  0.88762305 0.89418152 0.90380894 0.90670982\n",
      " 0.92222315 0.94202468 0.94433704 0.9415202  0.94269736 0.94025901\n",
      " 0.95942994 0.96056502 0.98427651 0.98381398 0.99104513 1.\n",
      " 0.93282759 0.88658679 0.81225866 0.71986794 0.61536449 0.50645542\n",
      " 0.4029237  0.31260952 0.24007966 0.18627962 0.14940177 0.12618802\n",
      " 0.11302687 0.10661899 0.10426287 0.10390704]\n",
      "16 day output [[0.10409746]]\n",
      "17 day input [0.6449172  0.66211218 0.66202808 0.66585387 0.67649038 0.70545699\n",
      " 0.70335492 0.6851089  0.68994366 0.69330699 0.70200962 0.69440011\n",
      " 0.68082065 0.68498278 0.68061043 0.69469437 0.68990164 0.68540323\n",
      " 0.70705459 0.70966115 0.6859918  0.69381153 0.71983519 0.72004541\n",
      " 0.70886235 0.71991929 0.73278399 0.75851346 0.757084   0.75477176\n",
      " 0.75077777 0.75460356 0.75935428 0.77659127 0.77427903 0.78781635\n",
      " 0.78949805 0.80211051 0.81249478 0.78827881 0.78815269 0.81127554\n",
      " 0.84095692 0.84801986 0.84646435 0.84692674 0.85613385 0.85911889\n",
      " 0.86777944 0.86677035 0.87732282 0.86962928 0.88274622 0.88837977\n",
      " 0.88497441 0.87194151 0.86698064 0.86601364 0.88531069 0.87656611\n",
      " 0.8914908  0.88901036 0.87601954 0.85621802 0.86584544 0.88198937\n",
      " 0.9035567  0.88762305 0.89418152 0.90380894 0.90670982 0.92222315\n",
      " 0.94202468 0.94433704 0.9415202  0.94269736 0.94025901 0.95942994\n",
      " 0.96056502 0.98427651 0.98381398 0.99104513 1.         0.93282759\n",
      " 0.88658679 0.81225866 0.71986794 0.61536449 0.50645542 0.4029237\n",
      " 0.31260952 0.24007966 0.18627962 0.14940177 0.12618802 0.11302687\n",
      " 0.10661899 0.10426287 0.10390704 0.10409746]\n",
      "17 day output [[0.10389111]]\n",
      "18 day input [0.66211218 0.66202808 0.66585387 0.67649038 0.70545699 0.70335492\n",
      " 0.6851089  0.68994366 0.69330699 0.70200962 0.69440011 0.68082065\n",
      " 0.68498278 0.68061043 0.69469437 0.68990164 0.68540323 0.70705459\n",
      " 0.70966115 0.6859918  0.69381153 0.71983519 0.72004541 0.70886235\n",
      " 0.71991929 0.73278399 0.75851346 0.757084   0.75477176 0.75077777\n",
      " 0.75460356 0.75935428 0.77659127 0.77427903 0.78781635 0.78949805\n",
      " 0.80211051 0.81249478 0.78827881 0.78815269 0.81127554 0.84095692\n",
      " 0.84801986 0.84646435 0.84692674 0.85613385 0.85911889 0.86777944\n",
      " 0.86677035 0.87732282 0.86962928 0.88274622 0.88837977 0.88497441\n",
      " 0.87194151 0.86698064 0.86601364 0.88531069 0.87656611 0.8914908\n",
      " 0.88901036 0.87601954 0.85621802 0.86584544 0.88198937 0.9035567\n",
      " 0.88762305 0.89418152 0.90380894 0.90670982 0.92222315 0.94202468\n",
      " 0.94433704 0.9415202  0.94269736 0.94025901 0.95942994 0.96056502\n",
      " 0.98427651 0.98381398 0.99104513 1.         0.93282759 0.88658679\n",
      " 0.81225866 0.71986794 0.61536449 0.50645542 0.4029237  0.31260952\n",
      " 0.24007966 0.18627962 0.14940177 0.12618802 0.11302687 0.10661899\n",
      " 0.10426287 0.10390704 0.10409746 0.10389111]\n",
      "18 day output [[0.10276414]]\n",
      "19 day input [0.66202808 0.66585387 0.67649038 0.70545699 0.70335492 0.6851089\n",
      " 0.68994366 0.69330699 0.70200962 0.69440011 0.68082065 0.68498278\n",
      " 0.68061043 0.69469437 0.68990164 0.68540323 0.70705459 0.70966115\n",
      " 0.6859918  0.69381153 0.71983519 0.72004541 0.70886235 0.71991929\n",
      " 0.73278399 0.75851346 0.757084   0.75477176 0.75077777 0.75460356\n",
      " 0.75935428 0.77659127 0.77427903 0.78781635 0.78949805 0.80211051\n",
      " 0.81249478 0.78827881 0.78815269 0.81127554 0.84095692 0.84801986\n",
      " 0.84646435 0.84692674 0.85613385 0.85911889 0.86777944 0.86677035\n",
      " 0.87732282 0.86962928 0.88274622 0.88837977 0.88497441 0.87194151\n",
      " 0.86698064 0.86601364 0.88531069 0.87656611 0.8914908  0.88901036\n",
      " 0.87601954 0.85621802 0.86584544 0.88198937 0.9035567  0.88762305\n",
      " 0.89418152 0.90380894 0.90670982 0.92222315 0.94202468 0.94433704\n",
      " 0.9415202  0.94269736 0.94025901 0.95942994 0.96056502 0.98427651\n",
      " 0.98381398 0.99104513 1.         0.93282759 0.88658679 0.81225866\n",
      " 0.71986794 0.61536449 0.50645542 0.4029237  0.31260952 0.24007966\n",
      " 0.18627962 0.14940177 0.12618802 0.11302687 0.10661899 0.10426287\n",
      " 0.10390704 0.10409746 0.10389111 0.10276414]\n",
      "19 day output [[0.10052188]]\n",
      "20 day input [0.66585387 0.67649038 0.70545699 0.70335492 0.6851089  0.68994366\n",
      " 0.69330699 0.70200962 0.69440011 0.68082065 0.68498278 0.68061043\n",
      " 0.69469437 0.68990164 0.68540323 0.70705459 0.70966115 0.6859918\n",
      " 0.69381153 0.71983519 0.72004541 0.70886235 0.71991929 0.73278399\n",
      " 0.75851346 0.757084   0.75477176 0.75077777 0.75460356 0.75935428\n",
      " 0.77659127 0.77427903 0.78781635 0.78949805 0.80211051 0.81249478\n",
      " 0.78827881 0.78815269 0.81127554 0.84095692 0.84801986 0.84646435\n",
      " 0.84692674 0.85613385 0.85911889 0.86777944 0.86677035 0.87732282\n",
      " 0.86962928 0.88274622 0.88837977 0.88497441 0.87194151 0.86698064\n",
      " 0.86601364 0.88531069 0.87656611 0.8914908  0.88901036 0.87601954\n",
      " 0.85621802 0.86584544 0.88198937 0.9035567  0.88762305 0.89418152\n",
      " 0.90380894 0.90670982 0.92222315 0.94202468 0.94433704 0.9415202\n",
      " 0.94269736 0.94025901 0.95942994 0.96056502 0.98427651 0.98381398\n",
      " 0.99104513 1.         0.93282759 0.88658679 0.81225866 0.71986794\n",
      " 0.61536449 0.50645542 0.4029237  0.31260952 0.24007966 0.18627962\n",
      " 0.14940177 0.12618802 0.11302687 0.10661899 0.10426287 0.10390704\n",
      " 0.10409746 0.10389111 0.10276414 0.10052188]\n"
     ]
    },
    {
     "name": "stdout",
     "output_type": "stream",
     "text": [
      "20 day output [[0.0972124]]\n",
      "21 day input [0.67649038 0.70545699 0.70335492 0.6851089  0.68994366 0.69330699\n",
      " 0.70200962 0.69440011 0.68082065 0.68498278 0.68061043 0.69469437\n",
      " 0.68990164 0.68540323 0.70705459 0.70966115 0.6859918  0.69381153\n",
      " 0.71983519 0.72004541 0.70886235 0.71991929 0.73278399 0.75851346\n",
      " 0.757084   0.75477176 0.75077777 0.75460356 0.75935428 0.77659127\n",
      " 0.77427903 0.78781635 0.78949805 0.80211051 0.81249478 0.78827881\n",
      " 0.78815269 0.81127554 0.84095692 0.84801986 0.84646435 0.84692674\n",
      " 0.85613385 0.85911889 0.86777944 0.86677035 0.87732282 0.86962928\n",
      " 0.88274622 0.88837977 0.88497441 0.87194151 0.86698064 0.86601364\n",
      " 0.88531069 0.87656611 0.8914908  0.88901036 0.87601954 0.85621802\n",
      " 0.86584544 0.88198937 0.9035567  0.88762305 0.89418152 0.90380894\n",
      " 0.90670982 0.92222315 0.94202468 0.94433704 0.9415202  0.94269736\n",
      " 0.94025901 0.95942994 0.96056502 0.98427651 0.98381398 0.99104513\n",
      " 1.         0.93282759 0.88658679 0.81225866 0.71986794 0.61536449\n",
      " 0.50645542 0.4029237  0.31260952 0.24007966 0.18627962 0.14940177\n",
      " 0.12618802 0.11302687 0.10661899 0.10426287 0.10390704 0.10409746\n",
      " 0.10389111 0.10276414 0.10052188 0.0972124 ]\n",
      "21 day output [[0.09304514]]\n",
      "22 day input [0.70545699 0.70335492 0.6851089  0.68994366 0.69330699 0.70200962\n",
      " 0.69440011 0.68082065 0.68498278 0.68061043 0.69469437 0.68990164\n",
      " 0.68540323 0.70705459 0.70966115 0.6859918  0.69381153 0.71983519\n",
      " 0.72004541 0.70886235 0.71991929 0.73278399 0.75851346 0.757084\n",
      " 0.75477176 0.75077777 0.75460356 0.75935428 0.77659127 0.77427903\n",
      " 0.78781635 0.78949805 0.80211051 0.81249478 0.78827881 0.78815269\n",
      " 0.81127554 0.84095692 0.84801986 0.84646435 0.84692674 0.85613385\n",
      " 0.85911889 0.86777944 0.86677035 0.87732282 0.86962928 0.88274622\n",
      " 0.88837977 0.88497441 0.87194151 0.86698064 0.86601364 0.88531069\n",
      " 0.87656611 0.8914908  0.88901036 0.87601954 0.85621802 0.86584544\n",
      " 0.88198937 0.9035567  0.88762305 0.89418152 0.90380894 0.90670982\n",
      " 0.92222315 0.94202468 0.94433704 0.9415202  0.94269736 0.94025901\n",
      " 0.95942994 0.96056502 0.98427651 0.98381398 0.99104513 1.\n",
      " 0.93282759 0.88658679 0.81225866 0.71986794 0.61536449 0.50645542\n",
      " 0.4029237  0.31260952 0.24007966 0.18627962 0.14940177 0.12618802\n",
      " 0.11302687 0.10661899 0.10426287 0.10390704 0.10409746 0.10389111\n",
      " 0.10276414 0.10052188 0.0972124  0.09304514]\n",
      "22 day output [[0.08831763]]\n",
      "23 day input [0.70335492 0.6851089  0.68994366 0.69330699 0.70200962 0.69440011\n",
      " 0.68082065 0.68498278 0.68061043 0.69469437 0.68990164 0.68540323\n",
      " 0.70705459 0.70966115 0.6859918  0.69381153 0.71983519 0.72004541\n",
      " 0.70886235 0.71991929 0.73278399 0.75851346 0.757084   0.75477176\n",
      " 0.75077777 0.75460356 0.75935428 0.77659127 0.77427903 0.78781635\n",
      " 0.78949805 0.80211051 0.81249478 0.78827881 0.78815269 0.81127554\n",
      " 0.84095692 0.84801986 0.84646435 0.84692674 0.85613385 0.85911889\n",
      " 0.86777944 0.86677035 0.87732282 0.86962928 0.88274622 0.88837977\n",
      " 0.88497441 0.87194151 0.86698064 0.86601364 0.88531069 0.87656611\n",
      " 0.8914908  0.88901036 0.87601954 0.85621802 0.86584544 0.88198937\n",
      " 0.9035567  0.88762305 0.89418152 0.90380894 0.90670982 0.92222315\n",
      " 0.94202468 0.94433704 0.9415202  0.94269736 0.94025901 0.95942994\n",
      " 0.96056502 0.98427651 0.98381398 0.99104513 1.         0.93282759\n",
      " 0.88658679 0.81225866 0.71986794 0.61536449 0.50645542 0.4029237\n",
      " 0.31260952 0.24007966 0.18627962 0.14940177 0.12618802 0.11302687\n",
      " 0.10661899 0.10426287 0.10390704 0.10409746 0.10389111 0.10276414\n",
      " 0.10052188 0.0972124  0.09304514 0.08831763]\n",
      "23 day output [[0.0833537]]\n",
      "24 day input [0.6851089  0.68994366 0.69330699 0.70200962 0.69440011 0.68082065\n",
      " 0.68498278 0.68061043 0.69469437 0.68990164 0.68540323 0.70705459\n",
      " 0.70966115 0.6859918  0.69381153 0.71983519 0.72004541 0.70886235\n",
      " 0.71991929 0.73278399 0.75851346 0.757084   0.75477176 0.75077777\n",
      " 0.75460356 0.75935428 0.77659127 0.77427903 0.78781635 0.78949805\n",
      " 0.80211051 0.81249478 0.78827881 0.78815269 0.81127554 0.84095692\n",
      " 0.84801986 0.84646435 0.84692674 0.85613385 0.85911889 0.86777944\n",
      " 0.86677035 0.87732282 0.86962928 0.88274622 0.88837977 0.88497441\n",
      " 0.87194151 0.86698064 0.86601364 0.88531069 0.87656611 0.8914908\n",
      " 0.88901036 0.87601954 0.85621802 0.86584544 0.88198937 0.9035567\n",
      " 0.88762305 0.89418152 0.90380894 0.90670982 0.92222315 0.94202468\n",
      " 0.94433704 0.9415202  0.94269736 0.94025901 0.95942994 0.96056502\n",
      " 0.98427651 0.98381398 0.99104513 1.         0.93282759 0.88658679\n",
      " 0.81225866 0.71986794 0.61536449 0.50645542 0.4029237  0.31260952\n",
      " 0.24007966 0.18627962 0.14940177 0.12618802 0.11302687 0.10661899\n",
      " 0.10426287 0.10390704 0.10409746 0.10389111 0.10276414 0.10052188\n",
      " 0.0972124  0.09304514 0.08831763 0.0833537 ]\n",
      "24 day output [[0.07845604]]\n",
      "25 day input [0.68994366 0.69330699 0.70200962 0.69440011 0.68082065 0.68498278\n",
      " 0.68061043 0.69469437 0.68990164 0.68540323 0.70705459 0.70966115\n",
      " 0.6859918  0.69381153 0.71983519 0.72004541 0.70886235 0.71991929\n",
      " 0.73278399 0.75851346 0.757084   0.75477176 0.75077777 0.75460356\n",
      " 0.75935428 0.77659127 0.77427903 0.78781635 0.78949805 0.80211051\n",
      " 0.81249478 0.78827881 0.78815269 0.81127554 0.84095692 0.84801986\n",
      " 0.84646435 0.84692674 0.85613385 0.85911889 0.86777944 0.86677035\n",
      " 0.87732282 0.86962928 0.88274622 0.88837977 0.88497441 0.87194151\n",
      " 0.86698064 0.86601364 0.88531069 0.87656611 0.8914908  0.88901036\n",
      " 0.87601954 0.85621802 0.86584544 0.88198937 0.9035567  0.88762305\n",
      " 0.89418152 0.90380894 0.90670982 0.92222315 0.94202468 0.94433704\n",
      " 0.9415202  0.94269736 0.94025901 0.95942994 0.96056502 0.98427651\n",
      " 0.98381398 0.99104513 1.         0.93282759 0.88658679 0.81225866\n",
      " 0.71986794 0.61536449 0.50645542 0.4029237  0.31260952 0.24007966\n",
      " 0.18627962 0.14940177 0.12618802 0.11302687 0.10661899 0.10426287\n",
      " 0.10390704 0.10409746 0.10389111 0.10276414 0.10052188 0.0972124\n",
      " 0.09304514 0.08831763 0.0833537  0.07845604]\n",
      "25 day output [[0.07387464]]\n",
      "26 day input [0.69330699 0.70200962 0.69440011 0.68082065 0.68498278 0.68061043\n",
      " 0.69469437 0.68990164 0.68540323 0.70705459 0.70966115 0.6859918\n",
      " 0.69381153 0.71983519 0.72004541 0.70886235 0.71991929 0.73278399\n",
      " 0.75851346 0.757084   0.75477176 0.75077777 0.75460356 0.75935428\n",
      " 0.77659127 0.77427903 0.78781635 0.78949805 0.80211051 0.81249478\n",
      " 0.78827881 0.78815269 0.81127554 0.84095692 0.84801986 0.84646435\n",
      " 0.84692674 0.85613385 0.85911889 0.86777944 0.86677035 0.87732282\n",
      " 0.86962928 0.88274622 0.88837977 0.88497441 0.87194151 0.86698064\n",
      " 0.86601364 0.88531069 0.87656611 0.8914908  0.88901036 0.87601954\n",
      " 0.85621802 0.86584544 0.88198937 0.9035567  0.88762305 0.89418152\n",
      " 0.90380894 0.90670982 0.92222315 0.94202468 0.94433704 0.9415202\n",
      " 0.94269736 0.94025901 0.95942994 0.96056502 0.98427651 0.98381398\n",
      " 0.99104513 1.         0.93282759 0.88658679 0.81225866 0.71986794\n",
      " 0.61536449 0.50645542 0.4029237  0.31260952 0.24007966 0.18627962\n",
      " 0.14940177 0.12618802 0.11302687 0.10661899 0.10426287 0.10390704\n",
      " 0.10409746 0.10389111 0.10276414 0.10052188 0.0972124  0.09304514\n",
      " 0.08831763 0.0833537  0.07845604 0.07387464]\n",
      "26 day output [[0.06979024]]\n",
      "27 day input [0.70200962 0.69440011 0.68082065 0.68498278 0.68061043 0.69469437\n",
      " 0.68990164 0.68540323 0.70705459 0.70966115 0.6859918  0.69381153\n",
      " 0.71983519 0.72004541 0.70886235 0.71991929 0.73278399 0.75851346\n",
      " 0.757084   0.75477176 0.75077777 0.75460356 0.75935428 0.77659127\n",
      " 0.77427903 0.78781635 0.78949805 0.80211051 0.81249478 0.78827881\n",
      " 0.78815269 0.81127554 0.84095692 0.84801986 0.84646435 0.84692674\n",
      " 0.85613385 0.85911889 0.86777944 0.86677035 0.87732282 0.86962928\n",
      " 0.88274622 0.88837977 0.88497441 0.87194151 0.86698064 0.86601364\n",
      " 0.88531069 0.87656611 0.8914908  0.88901036 0.87601954 0.85621802\n",
      " 0.86584544 0.88198937 0.9035567  0.88762305 0.89418152 0.90380894\n",
      " 0.90670982 0.92222315 0.94202468 0.94433704 0.9415202  0.94269736\n",
      " 0.94025901 0.95942994 0.96056502 0.98427651 0.98381398 0.99104513\n",
      " 1.         0.93282759 0.88658679 0.81225866 0.71986794 0.61536449\n",
      " 0.50645542 0.4029237  0.31260952 0.24007966 0.18627962 0.14940177\n",
      " 0.12618802 0.11302687 0.10661899 0.10426287 0.10390704 0.10409746\n",
      " 0.10389111 0.10276414 0.10052188 0.0972124  0.09304514 0.08831763\n",
      " 0.0833537  0.07845604 0.07387464 0.06979024]\n",
      "27 day output [[0.06631068]]\n",
      "28 day input [0.69440011 0.68082065 0.68498278 0.68061043 0.69469437 0.68990164\n",
      " 0.68540323 0.70705459 0.70966115 0.6859918  0.69381153 0.71983519\n",
      " 0.72004541 0.70886235 0.71991929 0.73278399 0.75851346 0.757084\n",
      " 0.75477176 0.75077777 0.75460356 0.75935428 0.77659127 0.77427903\n",
      " 0.78781635 0.78949805 0.80211051 0.81249478 0.78827881 0.78815269\n",
      " 0.81127554 0.84095692 0.84801986 0.84646435 0.84692674 0.85613385\n",
      " 0.85911889 0.86777944 0.86677035 0.87732282 0.86962928 0.88274622\n",
      " 0.88837977 0.88497441 0.87194151 0.86698064 0.86601364 0.88531069\n",
      " 0.87656611 0.8914908  0.88901036 0.87601954 0.85621802 0.86584544\n",
      " 0.88198937 0.9035567  0.88762305 0.89418152 0.90380894 0.90670982\n",
      " 0.92222315 0.94202468 0.94433704 0.9415202  0.94269736 0.94025901\n",
      " 0.95942994 0.96056502 0.98427651 0.98381398 0.99104513 1.\n",
      " 0.93282759 0.88658679 0.81225866 0.71986794 0.61536449 0.50645542\n",
      " 0.4029237  0.31260952 0.24007966 0.18627962 0.14940177 0.12618802\n",
      " 0.11302687 0.10661899 0.10426287 0.10390704 0.10409746 0.10389111\n",
      " 0.10276414 0.10052188 0.0972124  0.09304514 0.08831763 0.0833537\n",
      " 0.07845604 0.07387464 0.06979024 0.06631068]\n",
      "28 day output [[0.06347691]]\n",
      "29 day input [0.68082065 0.68498278 0.68061043 0.69469437 0.68990164 0.68540323\n",
      " 0.70705459 0.70966115 0.6859918  0.69381153 0.71983519 0.72004541\n",
      " 0.70886235 0.71991929 0.73278399 0.75851346 0.757084   0.75477176\n",
      " 0.75077777 0.75460356 0.75935428 0.77659127 0.77427903 0.78781635\n",
      " 0.78949805 0.80211051 0.81249478 0.78827881 0.78815269 0.81127554\n",
      " 0.84095692 0.84801986 0.84646435 0.84692674 0.85613385 0.85911889\n",
      " 0.86777944 0.86677035 0.87732282 0.86962928 0.88274622 0.88837977\n",
      " 0.88497441 0.87194151 0.86698064 0.86601364 0.88531069 0.87656611\n",
      " 0.8914908  0.88901036 0.87601954 0.85621802 0.86584544 0.88198937\n",
      " 0.9035567  0.88762305 0.89418152 0.90380894 0.90670982 0.92222315\n",
      " 0.94202468 0.94433704 0.9415202  0.94269736 0.94025901 0.95942994\n",
      " 0.96056502 0.98427651 0.98381398 0.99104513 1.         0.93282759\n",
      " 0.88658679 0.81225866 0.71986794 0.61536449 0.50645542 0.4029237\n",
      " 0.31260952 0.24007966 0.18627962 0.14940177 0.12618802 0.11302687\n",
      " 0.10661899 0.10426287 0.10390704 0.10409746 0.10389111 0.10276414\n",
      " 0.10052188 0.0972124  0.09304514 0.08831763 0.0833537  0.07845604\n",
      " 0.07387464 0.06979024 0.06631068 0.06347691]\n",
      "29 day output [[0.06127483]]\n",
      "[[0.9328275918960571], [0.8865867853164673], [0.8122586607933044], [0.7198679447174072], [0.6153644919395447], [0.5064554214477539], [0.40292370319366455], [0.3126095235347748], [0.24007965624332428], [0.18627962470054626], [0.14940176904201508], [0.1261880248785019], [0.11302687227725983], [0.1066189855337143], [0.10426286607980728], [0.1039070412516594], [0.10409746319055557], [0.10389111191034317], [0.10276413708925247], [0.10052187740802765], [0.09721240401268005], [0.09304513782262802], [0.0883176252245903], [0.08335369825363159], [0.07845604419708252], [0.07387464493513107], [0.06979023665189743], [0.06631068140268326], [0.06347690522670746], [0.06127483397722244]]\n"
     ]
    }
   ],
   "source": [
    "# demonstrate prediction for next 10 days\n",
    "from numpy import array\n",
    "\n",
    "lst_output=[]\n",
    "n_steps=100\n",
    "i=0\n",
    "while(i<30):\n",
    "    \n",
    "    if(len(temp_input)>100):\n",
    "        #print(temp_input)\n",
    "        x_input=np.array(temp_input[1:])\n",
    "        print(\"{} day input {}\".format(i,x_input))\n",
    "        x_input=x_input.reshape(1,-1)\n",
    "        x_input = x_input.reshape((1, n_steps, 1))\n",
    "        #print(x_input)\n",
    "        yhat = model.predict(x_input, verbose=0)\n",
    "        print(\"{} day output {}\".format(i,yhat))\n",
    "        temp_input.extend(yhat[0].tolist())\n",
    "        temp_input=temp_input[1:]\n",
    "        #print(temp_input)\n",
    "        lst_output.extend(yhat.tolist())\n",
    "        i=i+1\n",
    "    else:\n",
    "        x_input = x_input.reshape((1, n_steps,1))\n",
    "        yhat = model.predict(x_input, verbose=0)\n",
    "        print(yhat[0])\n",
    "        temp_input.extend(yhat[0].tolist())\n",
    "        print(len(temp_input))\n",
    "        lst_output.extend(yhat.tolist())\n",
    "        i=i+1\n",
    "    \n",
    "\n",
    "print(lst_output)"
   ]
  },
  {
   "cell_type": "code",
   "execution_count": 80,
   "metadata": {},
   "outputs": [],
   "source": [
    "day_new=np.arange(1,101)\n",
    "day_pred=np.arange(101,131)"
   ]
  },
  {
   "cell_type": "code",
   "execution_count": 81,
   "metadata": {},
   "outputs": [],
   "source": [
    "import matplotlib.pyplot as plt"
   ]
  },
  {
   "cell_type": "code",
   "execution_count": 82,
   "metadata": {},
   "outputs": [
    {
     "data": {
      "text/plain": [
       "2012"
      ]
     },
     "execution_count": 82,
     "metadata": {},
     "output_type": "execute_result"
    }
   ],
   "source": [
    "len(df1)"
   ]
  },
  {
   "cell_type": "code",
   "execution_count": 83,
   "metadata": {},
   "outputs": [
    {
     "data": {
      "text/plain": [
       "[<matplotlib.lines.Line2D at 0x1136a2d2b88>]"
      ]
     },
     "execution_count": 83,
     "metadata": {},
     "output_type": "execute_result"
    },
    {
     "data": {
      "image/png": "[encoded data removed]",
      "text/plain": [
       "<Figure size 432x288 with 1 Axes>"
      ]
     },
     "metadata": {
      "needs_background": "light"
     },
     "output_type": "display_data"
    }
   ],
   "source": [
    "plt.plot(day_new,scaler.inverse_transform(df1[len(df1)-100:]))\n",
    "plt.plot(day_pred,scaler.inverse_transform(lst_output))"
   ]
  },
  {
   "cell_type": "code",
   "execution_count": 89,
   "metadata": {},
   "outputs": [
    {
     "data": {
      "text/plain": [
       "[<matplotlib.lines.Line2D at 0x1136a4ebd48>]"
      ]
     },
     "execution_count": 89,
     "metadata": {},
     "output_type": "execute_result"
    },
    {
     "data": {
      "image/png": "[encoded data removed]",
      "text/plain": [
       "<Figure size 432x288 with 1 Axes>"
      ]
     },
     "metadata": {
      "needs_background": "light"
     },
     "output_type": "display_data"
    }
   ],
   "source": [
    "\n",
    "df3=df1.tolist()\n",
    "df3.extend(lst_output)\n",
    "plt.plot(df3)"
   ]
  },
  {
   "cell_type": "code",
   "execution_count": 90,
   "metadata": {},
   "outputs": [],
   "source": [
    "df3=scaler.inverse_transform(df3).tolist()"
   ]
  },
  {
   "cell_type": "code",
   "execution_count": 91,
   "metadata": {},
   "outputs": [
    {
     "data": {
      "text/plain": [
       "[<matplotlib.lines.Line2D at 0x1136c5af908>]"
      ]
     },
     "execution_count": 91,
     "metadata": {},
     "output_type": "execute_result"
    },
    {
     "data": {
      "image/png": "[encoded data removed]",
      "text/plain": [
       "<Figure size 432x288 with 1 Axes>"
      ]
     },
     "metadata": {
      "needs_background": "light"
     },
     "output_type": "display_data"
    }
   ],
   "source": [
    "plt.plot(df3)"
   ]
  },
  {
   "cell_type": "code",
   "execution_count": null,
   "metadata": {},
   "outputs": [],
   "source": [
    "\n"
   ]
  }
 ],
 "metadata": {
  "kernelspec": {
   "display_name": "Python 3",
   "language": "python",
   "name": "python3"
  },
  "language_info": {
   "codemirror_mode": {
    "name": "ipython",
    "version": 3
   },
   "file_extension": ".py",
   "mimetype": "text/x-python",
   "name": "python",
   "nbconvert_exporter": "python",
   "pygments_lexer": "ipython3",
   "version": "3.7.6"
  }
 },
 "nbformat": 4,
 "nbformat_minor": 4
}
